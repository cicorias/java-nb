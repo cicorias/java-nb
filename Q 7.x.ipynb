{
 "cells": [
  {
   "cell_type": "code",
   "execution_count": 1,
   "metadata": {},
   "outputs": [],
   "source": [
    "public class LLNode {\n",
    "private int data;\n",
    "private LLNode link;\n",
    "LLNode(int data, LLNode link) { \n",
    "       this.data = data; this.link = link; \n",
    "    }\n",
    "public void setData(int data) {\n",
    "       this.data = data;\n",
    "    }\n",
    "    public int getData() {\n",
    "       return this.data;\n",
    "    }\n",
    "public void setLink(LLNode link) {\n",
    "       this.link = link; \n",
    "    }\n",
    "public LLNode getLink() { \n",
    "        return this.link; \n",
    "    }\n",
    "}"
   ]
  },
  {
   "cell_type": "markdown",
   "metadata": {},
   "source": [
    "\n",
    "head refers to the first node of a linked list, \n",
    "how do I delete the first node from the linked list?  \n",
    "(You can assume that there are more than 1 nodes in the linked list). \n",
    "You might use setLink() and/or getLink() to answer this question.\n",
    "\n",
    "\n",
    "## Your response:\n",
    "```\n",
    "head = head.getLink(); (setting the head to the next node in the list)\n",
    "```\n",
    "\n",
    "\n"
   ]
  },
  {
   "cell_type": "markdown",
   "metadata": {},
   "source": [
    "## Q7.1 countLarger\n",
    "> 10 Points\n",
    "\n",
    "Write a method to return the number of elements that are larger than x in a linkedList. For example, if head refers to the list 10 -> 33 -> 28 -> 50 -> 20 and x is 20, the return value should be 3. Your algorithm should be O(n) where n is the number of elements in the linked list.\n",
    "\n"
   ]
  },
  {
   "cell_type": "code",
   "execution_count": 2,
   "metadata": {},
   "outputs": [],
   "source": [
    "public static int countLarger(LLNode head, int x) \n",
    "{\n",
    "    LLNode currentNode = head;\n",
    "    int count = 0;\n",
    "    while(currentNode != null) {\n",
    "        if (currentNode.getData() > x) {\n",
    "            ++count;\n",
    "        }\n",
    "        currentNode = currentNode.getLink();\n",
    "    }\n",
    "    return count;\n",
    "}"
   ]
  },
  {
   "cell_type": "markdown",
   "metadata": {},
   "source": [
    "## Q7.2 duplicateList\n",
    "> 15 Points\n",
    "\n",
    "Write a method that takes a list and returns a new list (included dupHead referenced to the head node) \n",
    "containing all the elements of the original list that occur at least twice... \n",
    "\n",
    "Note that the original list nodes should not be modified in any way by the method. \n",
    "\n",
    "For example, if head refers to 1->12->1->2->10->12, \n",
    "  it should return 1->12 after calling duplicateList(). \n",
    "  \n",
    "Notice that the order is matter, so the output should be 1->12 rather than 12->1. \n",
    "\n",
    "Your algorithm should be O(n^2) where n is the number of elements in the linkedList.  \n",
    "\n",
    "You can assume the list has at least two elements.\n",
    "\n"
   ]
  },
  {
   "cell_type": "code",
   "execution_count": 3,
   "metadata": {},
   "outputs": [],
   "source": [
    "\n",
    "void printIt(LLNode head) {\n",
    "    LLNode c = head;\n",
    "    while(c != null) {\n",
    "        System.out.println(c.getData());\n",
    "        c = c.getLink();\n",
    "    }\n",
    "    System.out.println(\"done\");\n",
    "}\n"
   ]
  },
  {
   "cell_type": "code",
   "execution_count": 4,
   "metadata": {},
   "outputs": [],
   "source": [
    "public LLNode duplicateListOld(LLNode head) {\n",
    "     LLNode dupHead = null;\n",
    "     LLNode dupTail = null;\n",
    "    \n",
    "     LLNode outer = head;\n",
    "     while(outer != null) {\n",
    "         LLNode inner = outer.getLink();\n",
    "         \n",
    "         while(inner != null) {\n",
    "             int innerData = inner.getData();\n",
    "             int outerData = outer.getData();\n",
    "             if (innerData == outerData) {\n",
    "                 System.out.println(\"DUP: inner:\" + innerData + \"  outer: \" + outerData);\n",
    "                 if (dupHead == null) {\n",
    "                     dupHead = new LLNode(outerData, null);\n",
    "                     dupTail = dupHead;\n",
    "                 } else {\n",
    "                     LLNode temp = new LLNode(outerData, null);\n",
    "                     dupTail.setLink(temp);\n",
    "                     dupTail = temp;\n",
    "                 }\n",
    "                 \n",
    "                 break;\n",
    "             }\n",
    "             //System.out.println(inner.getData());\n",
    "             inner = inner.getLink();\n",
    "         }\n",
    "         outer = outer.getLink();\n",
    "     }\n",
    "     return dupHead;\n",
    " }"
   ]
  },
  {
   "cell_type": "code",
   "execution_count": 14,
   "metadata": {},
   "outputs": [],
   "source": [
    "public LLNode duplicateList(LLNode head) {\n",
    "     LLNode dupHead = null;\n",
    "     LLNode dupTail = null;\n",
    "    \n",
    "     LLNode outer = head;\n",
    "     while(outer != null) {\n",
    "         LLNode inner = outer.getLink();\n",
    "         \n",
    "         while(inner != null) {\n",
    "             int innerData = inner.getData();\n",
    "             int outerData = outer.getData();\n",
    "             if (innerData == outerData) {\n",
    "                 System.out.println(\"DUP: inner:\" + innerData + \"  outer: \" + outerData);\n",
    "                 if (dupHead == null) {\n",
    "                     dupHead = new LLNode(outerData, null);\n",
    "                     dupTail = dupHead;\n",
    "                 } else {\n",
    "                     LLNode newList = dupHead;\n",
    "                     boolean alreadyExists = false;\n",
    "                     // have to traverse the NEW list to ensure\n",
    "                     // haven't added the same value again.\n",
    "                     while(newList != null) {\n",
    "                         if (newList.getData() == outerData) {\n",
    "                            alreadyExists = true;\n",
    "                            break;\n",
    "                         }\n",
    "                         \n",
    "                         newList = newList.getLink();\n",
    "                     }\n",
    "                     \n",
    "                     if (!alreadyExists) {\n",
    "                         LLNode temp = new LLNode(outerData, null);\n",
    "                         dupTail.setLink(temp);\n",
    "                         dupTail = temp;\n",
    "                     }\n",
    "                 }\n",
    "                 \n",
    "                 break;\n",
    "             }\n",
    "             //bump to the next item\n",
    "             inner = inner.getLink();\n",
    "         }\n",
    "         //bump to the next item\n",
    "         outer = outer.getLink();\n",
    "     }\n",
    "     return dupHead;\n",
    " }"
   ]
  },
  {
   "cell_type": "code",
   "execution_count": 15,
   "metadata": {},
   "outputs": [
    {
     "name": "stdout",
     "output_type": "stream",
     "text": [
      "1\n",
      "12\n",
      "1\n",
      "2\n",
      "10\n",
      "12\n",
      "10\n",
      "12\n",
      "done\n"
     ]
    }
   ],
   "source": [
    "LLNode myHead1 = new LLNode(1,null);\n",
    "LLNode myHead2 = new LLNode(12,null);\n",
    "LLNode myHead3 = new LLNode(1,null);\n",
    "LLNode myHead4 = new LLNode(2,null);\n",
    "LLNode myHead5 = new LLNode(10,null);\n",
    "LLNode myHead6 = new LLNode(12,null);\n",
    "LLNode myHead7 = new LLNode(10,null);\n",
    "LLNode myHead8 = new LLNode(12,null);\n",
    "\n",
    "myHead1.setLink(myHead2);\n",
    "myHead2.setLink(myHead3);\n",
    "myHead3.setLink(myHead4);\n",
    "myHead4.setLink(myHead5);\n",
    "myHead5.setLink(myHead6);\n",
    "myHead6.setLink(myHead7);\n",
    "myHead7.setLink(myHead8);\n",
    "\n",
    "//printIt(myHead1);\n",
    "\n",
    "printIt(myHead1);"
   ]
  },
  {
   "cell_type": "code",
   "execution_count": 16,
   "metadata": {},
   "outputs": [
    {
     "name": "stdout",
     "output_type": "stream",
     "text": [
      "DUP: inner:1  outer: 1\n",
      "added new..\n",
      "DUP: inner:12  outer: 12\n",
      "already had new head\n",
      "DUP: inner:10  outer: 10\n",
      "already had new head\n",
      "DUP: inner:12  outer: 12\n",
      "already had new head\n",
      "1\n",
      "12\n",
      "10\n",
      "done\n"
     ]
    }
   ],
   "source": [
    "LLNode newhead = duplicateList(myHead1);\n",
    "printIt(newhead);"
   ]
  },
  {
   "cell_type": "code",
   "execution_count": 17,
   "metadata": {},
   "outputs": [
    {
     "name": "stdout",
     "output_type": "stream",
     "text": [
      "1\n",
      "12\n",
      "10\n",
      "done\n"
     ]
    }
   ],
   "source": [
    "printIt(newhead);"
   ]
  },
  {
   "cell_type": "code",
   "execution_count": null,
   "metadata": {},
   "outputs": [],
   "source": []
  },
  {
   "cell_type": "code",
   "execution_count": null,
   "metadata": {},
   "outputs": [],
   "source": []
  }
 ],
 "metadata": {
  "kernelspec": {
   "display_name": "Java",
   "language": "java",
   "name": "java"
  },
  "language_info": {
   "codemirror_mode": "java",
   "file_extension": ".jshell",
   "mimetype": "text/x-java-source",
   "name": "Java",
   "pygments_lexer": "java",
   "version": "11.0.5+10"
  }
 },
 "nbformat": 4,
 "nbformat_minor": 4
}
