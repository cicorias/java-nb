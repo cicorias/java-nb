{
 "cells": [
  {
   "cell_type": "code",
   "execution_count": 1,
   "metadata": {},
   "outputs": [],
   "source": [
    "\n",
    "\n",
    "public class QueueUsingCircularArray {\n",
    "\n",
    "//data member\n",
    "  private int[] dataArray;\n",
    "  private int size;\n",
    "  private int front;\n",
    "  private int rear;\n",
    "\n",
    "  private static final int MAX = 6;\n",
    "\n",
    "//Constructor\n",
    "  public QueueUsingCircularArray() {\n",
    "    this.dataArray = new int[MAX];\n",
    "    this.size = 0;\n",
    "    this.front = 0;\n",
    "    this.rear = 0;\n",
    "  }\n",
    "\n",
    "  public void enqueue(int item) throws IllegalStateException {\n",
    "    if (size == MAX)\n",
    "      throw new IllegalStateException(\"Queue Overflow\");\n",
    "    else {\n",
    "      dataArray[rear] = item; // if queue is not full add the item to rear\n",
    "      rear = (rear + 1) % MAX; // increase the rear and take modulus with max value\n",
    "      size++; // increase the size by 1\n",
    "    }\n",
    "  }\n",
    "\n",
    "  public int dequeue() throws IllegalStateException {\n",
    "    if (size == 0)\n",
    "      throw new IllegalStateException(\"Empty Queue !!!\");\n",
    "    else {\n",
    "//take out the item from front which will always be front % max\n",
    "      int item = dataArray[(front % MAX)];\n",
    "      dataArray[front] = 0; // make it 0\n",
    "      front = (front + 1) % MAX; // increase the front to next value which is modulus with MAX\n",
    "      size--; // decrease the size by 1\n",
    "      return item;\n",
    "    }\n",
    "  }\n",
    "\n",
    "  public int getRear() {\n",
    "    return this.rear;\n",
    "  }\n",
    "\n",
    "  public int getFront() {\n",
    "    return this.front;\n",
    "  }\n",
    "\n",
    "  public int getSize() {\n",
    "    return this.size;\n",
    "  }\n",
    "}\n",
    "\n"
   ]
  },
  {
   "cell_type": "code",
   "execution_count": 3,
   "metadata": {},
   "outputs": [
    {
     "name": "stdout",
     "output_type": "stream",
     "text": [
      "Enter third digit of your student id: "
     ]
    },
    {
     "name": "stdin",
     "output_type": "stream",
     "text": [
      " 0\n"
     ]
    },
    {
     "name": "stdout",
     "output_type": "stream",
     "text": [
      "Tail of the queue is point at location: 2"
     ]
    }
   ],
   "source": [
    "import java.util.*;\n",
    "\n",
    "// \"one plus the third digit of student ID: \"\n",
    "  //32028848  -> 0 is 3rd digit, so \"1\"\n",
    "Scanner scnr = new Scanner(System.in);\n",
    "int thirdDigitOfStudentId =0, item =5;\n",
    "QueueUsingCircularArray queue = new QueueUsingCircularArray();\n",
    "\n",
    "//take third digit of student id\n",
    "System.out.print(\"Enter third digit of your student id: \");\n",
    "thirdDigitOfStudentId = scnr.nextInt();\n",
    "//run the loop to digit + 1 times\n",
    "for (int i =0; i <= thirdDigitOfStudentId ; i++ )\n",
    "{\n",
    "     queue.enqueue(item); //enqueue an item\n",
    "     int returnedItem = queue.dequeue(); //dequeue an item\n",
    "}\n",
    "\n",
    "queue.enqueue(item); //enqueue last extra item\n",
    "System.out.print(\"Tail of the queue is point at location: \" + queue.getRear());\n"
   ]
  },
  {
   "cell_type": "code",
   "execution_count": 4,
   "metadata": {},
   "outputs": [
    {
     "name": "stdout",
     "output_type": "stream",
     "text": [
      "Tail of the queue is point at location: 2"
     ]
    }
   ],
   "source": [
    "QueueUsingCircularArray queue = new QueueUsingCircularArray();\n",
    "\n",
    "queue.enqueue(1);\n",
    "queue.dequeue();\n",
    "queue.enqueue(1);\n",
    "\n",
    "System.out.print(\"Tail of the queue is point at location: \" + queue.getRear());"
   ]
  },
  {
   "cell_type": "code",
   "execution_count": null,
   "metadata": {},
   "outputs": [],
   "source": []
  }
 ],
 "metadata": {
  "kernelspec": {
   "display_name": "Java",
   "language": "java",
   "name": "java"
  },
  "language_info": {
   "codemirror_mode": "java",
   "file_extension": ".jshell",
   "mimetype": "text/x-java-source",
   "name": "Java",
   "pygments_lexer": "java",
   "version": "11.0.5+10"
  }
 },
 "nbformat": 4,
 "nbformat_minor": 4
}
