{
 "cells": [
  {
   "cell_type": "markdown",
   "metadata": {},
   "source": [
    "## Q8.1 isSmallestAfter\n",
    "> 10 Points\n",
    "Write a recursive helper method for isSmallestAfter.  \n",
    "\n",
    "You cannot use any loops in this method. \n",
    "\n",
    "isSmallestAfter(list, index) returns true if the element at position index is \n",
    "smaller than or equal to all elements that occur after it in the list, \n",
    "otherwise, return false. \n",
    "\n",
    "For example, given a list 1, 7, 10, 10, 6, 4, 10 (numElement = 7), \n",
    "  isSmallestAfter(list, 2) returns false (since 6 and 4 are smaller than 10),  \n",
    "  isSmallestAfter(list, 5) returns true, \n",
    "  isSmallestAfter(list, 6) returns true. \n",
    "  \n",
    "  \n",
    " Your method should leave the list unchanged. O(N). "
   ]
  },
  {
   "cell_type": "code",
   "execution_count": 13,
   "metadata": {},
   "outputs": [],
   "source": [
    "\n",
    "//\n",
    "//isSmallestAfter(list, index) returns true if the element \n",
    "//at position index is smaller than or equal to all elements that occur after it in the list\n",
    "\n",
    "\n",
    "public boolean isSmallestAfter(int[] list, int index){\n",
    "    if (index < 0 || index >= list.length) \n",
    "            return false;\n",
    "    int target = list[index];\n",
    "    return isSmallestAfterHelper(list, index, target);\n",
    "}\n",
    "\n",
    "public boolean isSmallestAfterHelper(int[] list,int index,int target)\n",
    "{\n",
    "    if (index == list.length - 1) {\n",
    "        if (list[index] >= target ) {\n",
    "            return true;\n",
    "        }\n",
    "    }\n",
    "    if (list[index] < target) {\n",
    "        return false;\n",
    "    }\n",
    "\n",
    "    return isSmallestAfterHelper(list, index+1, target);  \n",
    "}\n",
    "\n",
    "\n",
    "public boolean isSmallestAfterHelperOld(int[] list, int index, int target) {\n",
    "    \n",
    "    boolean rv = true;\n",
    "    int checkValue = list[index];\n",
    "    \n",
    "    for(int i = index; i < list.length; i++) {\n",
    "        if (list[index] >= target) {\n",
    "            rv = false;\n",
    "            break;\n",
    "        }\n",
    "    }\n",
    "    \n",
    "    \n",
    "    return rv;\n",
    "}"
   ]
  },
  {
   "cell_type": "code",
   "execution_count": 14,
   "metadata": {},
   "outputs": [
    {
     "name": "stdout",
     "output_type": "stream",
     "text": [
      "false\n",
      "true\n",
      "true\n"
     ]
    }
   ],
   "source": [
    "\n",
    "int[] theList = new int[] {1, 7, 10, 10, 6, 4, 10};\n",
    "\n",
    "\n",
    "\n",
    "System.out.println(\n",
    "isSmallestAfter(theList, 2));\n",
    "\n",
    "System.out.println(\n",
    "isSmallestAfter(theList, 5));\n",
    "\n",
    "\n",
    "System.out.println(\n",
    "isSmallestAfter(theList, 6));"
   ]
  },
  {
   "cell_type": "code",
   "execution_count": null,
   "metadata": {},
   "outputs": [],
   "source": []
  }
 ],
 "metadata": {
  "kernelspec": {
   "display_name": "Java",
   "language": "java",
   "name": "java"
  },
  "language_info": {
   "codemirror_mode": "java",
   "file_extension": ".jshell",
   "mimetype": "text/x-java-source",
   "name": "Java",
   "pygments_lexer": "java",
   "version": "11.0.5+10"
  }
 },
 "nbformat": 4,
 "nbformat_minor": 4
}
