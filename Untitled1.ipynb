{
 "cells": [
  {
   "cell_type": "markdown",
   "metadata": {},
   "source": [
    "\n",
    "## Q8.21\n",
    "> 5 Points\n",
    "\n",
    "Write a non-recursive method to return a output list that remove duplicate elements in the input list. \n",
    "\n",
    "For example, if the list is `10, 33, 28, 33, 50, 10, 20, 33, 15, 20`, \n",
    "the output array should contain only `10, 33, 28, 50, 20, 15`. \n",
    "\n",
    "Notice that the order is matter. In other words, the output array contains all \n",
    "elements from the list, except all duplicates elements are removed. \n",
    "You should not change the list. \n",
    "\n",
    "The return value is the output array. O(N^2).\n"
   ]
  },
  {
   "cell_type": "code",
   "execution_count": 1,
   "metadata": {},
   "outputs": [],
   "source": [
    "\n",
    "Integer[] removeDuplicatesOrig(Integer[] list) {\n",
    "    int n = list.length;\n",
    "    Integer[] output = new Integer[n];\n",
    "    ///\n",
    "    \n",
    "    \n",
    "    ///\n",
    "    return output;\n",
    "}"
   ]
  },
  {
   "cell_type": "code",
   "execution_count": 6,
   "metadata": {},
   "outputs": [],
   "source": [
    "Integer[] removeDuplicates(Integer[] list) {\n",
    "    int n = list.length;\n",
    "    Integer[] output = new Integer[n];\n",
    "    ///\n",
    "    \n",
    "    int newIndex = 0;\n",
    "    for(int i = 0; i < n; i++) {\n",
    "        boolean isDuplicate = false;\n",
    "        \n",
    "        for(int j = 0; j < n; j++) {\n",
    "            if ( list[i] == output[j]) {\n",
    "                isDuplicate = true;\n",
    "            }\n",
    "        }\n",
    "        \n",
    "        if ( ! isDuplicate ) {\n",
    "            output[newIndex] = list[i];\n",
    "            ++newIndex;\n",
    "        }\n",
    "    }\n",
    "    \n",
    "    return output;\n",
    "}"
   ]
  },
  {
   "cell_type": "code",
   "execution_count": 7,
   "metadata": {},
   "outputs": [
    {
     "name": "stdout",
     "output_type": "stream",
     "text": [
      "duplicate...: 33\n",
      "duplicate...: 10\n",
      "duplicate...: 33\n",
      "duplicate...: 20\n",
      "10\n",
      "33\n",
      "28\n",
      "50\n",
      "20\n",
      "15\n",
      "null\n",
      "null\n",
      "null\n",
      "null\n"
     ]
    }
   ],
   "source": [
    "\n",
    "void print(Integer[] list) {\n",
    "    for(int i = 0; i < list.length; i++) {\n",
    "        System.out.println(list[i]);\n",
    "    }\n",
    "}\n",
    "\n",
    "// 10, 33, 28, 50, 20, 15\n",
    "\n",
    "Integer[] x = new Integer[] {10, 33, 28, 33, 50, 10, 20, 33, 15, 20};\n",
    "\n",
    "Integer[] y = removeDuplicates(x);\n",
    "\n",
    "print(y);\n"
   ]
  },
  {
   "cell_type": "code",
   "execution_count": null,
   "metadata": {},
   "outputs": [],
   "source": []
  }
 ],
 "metadata": {
  "kernelspec": {
   "display_name": "Java",
   "language": "java",
   "name": "java"
  },
  "language_info": {
   "codemirror_mode": "java",
   "file_extension": ".jshell",
   "mimetype": "text/x-java-source",
   "name": "Java",
   "pygments_lexer": "java",
   "version": "11.0.5+10"
  }
 },
 "nbformat": 4,
 "nbformat_minor": 4
}
