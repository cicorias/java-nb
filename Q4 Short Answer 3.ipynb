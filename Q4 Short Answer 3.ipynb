{
 "cells": [
  {
   "cell_type": "code",
   "execution_count": 6,
   "metadata": {},
   "outputs": [
    {
     "name": "stdout",
     "output_type": "stream",
     "text": [
      "8\n",
      "8\n",
      "8\n",
      "8\n"
     ]
    }
   ],
   "source": [
    "\n",
    "int key = 32028848;\n",
    "int nxtKey = 10 + 32028848;\n",
    "\n",
    "//using 10 as that is the \"capacity\"\n",
    "int hashKey = key % 10;\n",
    "int nxtHashKey = nxtKey % 10;\n",
    "\n",
    "System.out.println(hashKey);\n",
    "System.out.println(nxtHashKey);\n",
    "\n",
    "System.out.println(hashKey % 10);\n",
    "System.out.println(nxtHashKey % 10);\n"
   ]
  },
  {
   "cell_type": "markdown",
   "metadata": {},
   "source": [
    "The following hashtable has a capacity of 10, and __ marks empty slots. The index of each slot is shown below for convenience. Using linear probing (probe length = 1), you insert a new key x (where x is your student id) into the hashtable. Next, you insert a second new key y \n",
    "(where y is your student id + 10).\n",
    "In which slot will y be inserted?\n",
    "```\n",
    "  [ 60    __    __   53   23   __  36   46   27  __ ]\n",
    "   <0>   <1>   <2>  <3> <4> <5> <6> <7> <8> <9>\n",
    "```\n",
    "   \n",
    "\n",
    "### Result:\n",
    "\n",
    "first insert attempt to 8, probe 1 goes to `[9]`\n",
    "\n",
    "second insert attempt to 8, probe 1, probe 1, probe 1, ends up in `[1]`"
   ]
  },
  {
   "cell_type": "code",
   "execution_count": null,
   "metadata": {},
   "outputs": [],
   "source": []
  }
 ],
 "metadata": {
  "kernelspec": {
   "display_name": "Java",
   "language": "java",
   "name": "java"
  },
  "language_info": {
   "codemirror_mode": "java",
   "file_extension": ".jshell",
   "mimetype": "text/x-java-source",
   "name": "Java",
   "pygments_lexer": "java",
   "version": "11.0.5+10"
  }
 },
 "nbformat": 4,
 "nbformat_minor": 4
}
